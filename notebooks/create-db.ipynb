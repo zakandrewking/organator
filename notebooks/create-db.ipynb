{
 "cells": [
  {
   "cell_type": "code",
   "execution_count": 117,
   "metadata": {},
   "outputs": [
    {
     "name": "stdout",
     "output_type": "stream",
     "text": [
      "The autoreload extension is already loaded. To reload it, use:\n",
      "  %reload_ext autoreload\n"
     ]
    }
   ],
   "source": [
    "%load_ext autoreload\n",
    "%autoreload 2"
   ]
  },
  {
   "cell_type": "code",
   "execution_count": 126,
   "metadata": {},
   "outputs": [],
   "source": [
    "from os.path import abspath, curdir, join, exists\n",
    "import gffutils\n",
    "import re"
   ]
  },
  {
   "cell_type": "code",
   "execution_count": 120,
   "metadata": {},
   "outputs": [],
   "source": [
    "data_dir = abspath(join(curdir, \"..\", \"data\"))\n",
    "public_dir = abspath(join(curdir, \"..\", \"frontend\", \"public\"))"
   ]
  },
  {
   "cell_type": "markdown",
   "metadata": {},
   "source": [
    "GCF_000002765.6.gff from the assembly of Plasmodium falciparum 3D7: https://www.ncbi.nlm.nih.gov/datasets/genome/GCF_000002765.6/"
   ]
  },
  {
   "cell_type": "code",
   "execution_count": 139,
   "metadata": {},
   "outputs": [],
   "source": [
    "recreate = True\n",
    "if not exists(join(public_dir, \"GCF_000002765.6.db\")) or recreate:\n",
    "    gff_db = gffutils.create_db(\n",
    "        join(data_dir, \"GCF_000002765.6\", \"genomic.gff\"),\n",
    "        join(public_dir, \"GCF_000002765.6.db\"),\n",
    "        merge_strategy=\"merge\",\n",
    "        force=True,\n",
    "    )\n",
    "else:\n",
    "    gff_db = gffutils.FeatureDB(join(public_dir, \"GCF_000002765.6.db\"))"
   ]
  },
  {
   "cell_type": "code",
   "execution_count": 140,
   "metadata": {},
   "outputs": [
    {
     "data": {
      "text/plain": [
       "<sqlite3.Cursor at 0x1059fc440>"
      ]
     },
     "execution_count": 140,
     "metadata": {},
     "output_type": "execute_result"
    }
   ],
   "source": [
    "# gff_db = sqlite3.connect(join(public_dir, \"GCF_000002765.6.db\"))\n",
    "gff_db.conn.execute(\n",
    "    \"create table sequences (seqid text not null, start int, seq text not null, primary key (seqid, start))\"\n",
    ")"
   ]
  },
  {
   "cell_type": "code",
   "execution_count": 142,
   "metadata": {},
   "outputs": [
    {
     "name": "stdout",
     "output_type": "stream",
     "text": [
      "Seq ID: NC_004325.2\n",
      "Seq ID: NC_037280.1\n",
      "Seq ID: NC_000521.4\n",
      "Seq ID: NC_004318.2\n",
      "Seq ID: NC_004326.2\n",
      "Seq ID: NC_004327.3\n",
      "Seq ID: NC_004328.3\n",
      "Seq ID: NC_004329.3\n",
      "Seq ID: NC_004330.2\n",
      "Seq ID: NC_037281.1\n",
      "Seq ID: NC_037282.1\n",
      "Seq ID: NC_037284.1\n",
      "Seq ID: NC_004331.3\n",
      "Seq ID: NC_037283.1\n"
     ]
    }
   ],
   "source": [
    "fna = join(data_dir, \"GCF_000002765.6\", \"GCF_000002765.6_GCA_000002765_genomic.fna\")\n",
    "seqid = None\n",
    "start = 0\n",
    "with open(fna) as f:\n",
    "    for line in f:\n",
    "        if line.startswith(\">\"):\n",
    "            seqid = re.search(r\">([^\\s]+)\\s\", line).group(1)\n",
    "            start = 0\n",
    "            print(f\"Seq ID: {seqid}\")\n",
    "            continue\n",
    "        if seqid is None:\n",
    "            raise Exception(\"No seqid found\")\n",
    "        seq = line.strip()\n",
    "        gff_db.conn.execute(\"insert into sequences values (?, ?, ?)\", (seqid, start, seq))\n",
    "        gff_db.conn.commit()\n",
    "        start += len(seq)"
   ]
  }
 ],
 "metadata": {
  "kernelspec": {
   "display_name": "Python 3 (ipykernel)",
   "language": "python",
   "name": "python3"
  },
  "language_info": {
   "codemirror_mode": {
    "name": "ipython",
    "version": 3
   },
   "file_extension": ".py",
   "mimetype": "text/x-python",
   "name": "python",
   "nbconvert_exporter": "python",
   "pygments_lexer": "ipython3",
   "version": "3.12.3"
  }
 },
 "nbformat": 4,
 "nbformat_minor": 4
}
