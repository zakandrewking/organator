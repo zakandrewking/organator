{
 "cells": [
  {
   "cell_type": "code",
   "execution_count": 1,
   "metadata": {},
   "outputs": [],
   "source": [
    "%load_ext autoreload\n",
    "%autoreload 2"
   ]
  },
  {
   "cell_type": "code",
   "execution_count": 2,
   "metadata": {},
   "outputs": [],
   "source": [
    "from os.path import abspath, curdir, join, exists\n",
    "import gffutils"
   ]
  },
  {
   "cell_type": "code",
   "execution_count": 3,
   "metadata": {},
   "outputs": [],
   "source": [
    "data_dir = abspath(join(curdir, \"..\", \"data\"))\n",
    "public_dir = abspath(join(curdir, \"..\", \"frontend\", \"public\"))"
   ]
  },
  {
   "cell_type": "markdown",
   "metadata": {},
   "source": [
    "GCF_000002765.3.gff from the assembly of Plasmodium falciparum 3D7: https://www.ncbi.nlm.nih.gov/datasets/genome/GCF_000002765.3/"
   ]
  },
  {
   "cell_type": "code",
   "execution_count": null,
   "metadata": {},
   "outputs": [],
   "source": [
    "recreate = True\n",
    "if not exists(join(public_dir, \"GCF_000002765.3.db\")) or recreate:\n",
    "    db = gffutils.create_db(\n",
    "        join(data_dir, \"GCF_000002765.3.gff\"),\n",
    "        join(public_dir, \"GCF_000002765.3.db\"),\n",
    "        merge_strategy=\"merge\",\n",
    "        force=True,\n",
    "    )"
   ]
  },
  {
   "cell_type": "code",
   "execution_count": null,
   "metadata": {},
   "outputs": [],
   "source": []
  }
 ],
 "metadata": {
  "kernelspec": {
   "display_name": "Python 3 (ipykernel)",
   "language": "python",
   "name": "python3"
  },
  "language_info": {
   "codemirror_mode": {
    "name": "ipython",
    "version": 3
   },
   "file_extension": ".py",
   "mimetype": "text/x-python",
   "name": "python",
   "nbconvert_exporter": "python",
   "pygments_lexer": "ipython3",
   "version": "3.12.3"
  }
 },
 "nbformat": 4,
 "nbformat_minor": 4
}
