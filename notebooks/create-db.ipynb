{
 "cells": [
  {
   "cell_type": "code",
   "execution_count": 80,
   "metadata": {},
   "outputs": [],
   "source": [
    "%load_ext autoreload\n",
    "%autoreload 2"
   ]
  },
  {
   "cell_type": "code",
   "execution_count": 89,
   "metadata": {},
   "outputs": [],
   "source": [
    "from os.path import abspath, curdir, join, exists\n",
    "import gffutils\n",
    "import sqlite3"
   ]
  },
  {
   "cell_type": "code",
   "execution_count": 82,
   "metadata": {},
   "outputs": [],
   "source": [
    "data_dir = abspath(join(curdir, \"..\", \"data\"))\n",
    "public_dir = abspath(join(curdir, \"..\", \"frontend\", \"public\"))"
   ]
  },
  {
   "cell_type": "markdown",
   "metadata": {},
   "source": [
    "GCF_000002765.6.gff from the assembly of Plasmodium falciparum 3D7: https://www.ncbi.nlm.nih.gov/datasets/genome/GCF_000002765.6/"
   ]
  },
  {
   "cell_type": "code",
   "execution_count": 113,
   "metadata": {},
   "outputs": [],
   "source": [
    "recreate = False\n",
    "if not exists(join(public_dir, \"GCF_000002765.6.db\")) or recreate:\n",
    "    gff_db = gffutils.create_db(\n",
    "        join(data_dir, \"GCF_000002765.6\", \"genomic.gff\"),\n",
    "        join(public_dir, \"GCF_000002765.6.db\"),\n",
    "        merge_strategy=\"merge\",\n",
    "        force=True,\n",
    "    )\n",
    "else:\n",
    "    gff_db = gffutils.FeatureDB(join(public_dir, \"GCF_000002765.6.db\"))"
   ]
  },
  {
   "cell_type": "code",
   "execution_count": 109,
   "metadata": {},
   "outputs": [
    {
     "data": {
      "text/plain": [
       "<sqlite3.Cursor at 0x105381dc0>"
      ]
     },
     "execution_count": 109,
     "metadata": {},
     "output_type": "execute_result"
    }
   ],
   "source": [
    "# gff_db = sqlite3.connect(join(public_dir, \"GCF_000002765.6.db\"))\n",
    "gff_db.conn.execute(\n",
    "    \"create table if not exists sequences (features_id text primary key, seq text, foreign key(features_id) references features(id))\"\n",
    ")"
   ]
  },
  {
   "cell_type": "code",
   "execution_count": 115,
   "metadata": {},
   "outputs": [
    {
     "name": "stdout",
     "output_type": "stream",
     "text": [
      "UNIQUE constraint failed: sequences.features_id\n",
      "UNIQUE constraint failed: sequences.features_id\n"
     ]
    }
   ],
   "source": [
    "fna = join(data_dir, \"GCF_000002765.6\", \"GCF_000002765.6_GCA_000002765_genomic.fna\")\n",
    "for feature in gff_db.all_features():\n",
    "    try:\n",
    "        seq = feature.sequence(fna)\n",
    "        gff_db.conn.execute(\"insert into sequences values (?, ?)\", (feature.id, seq))\n",
    "        gff_db.conn.commit()\n",
    "    except Exception as e:\n",
    "        print(e)\n",
    "        continue"
   ]
  }
 ],
 "metadata": {
  "kernelspec": {
   "display_name": "Python 3 (ipykernel)",
   "language": "python",
   "name": "python3"
  },
  "language_info": {
   "codemirror_mode": {
    "name": "ipython",
    "version": 3
   },
   "file_extension": ".py",
   "mimetype": "text/x-python",
   "name": "python",
   "nbconvert_exporter": "python",
   "pygments_lexer": "ipython3",
   "version": "3.12.3"
  }
 },
 "nbformat": 4,
 "nbformat_minor": 4
}
